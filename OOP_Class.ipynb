{
 "cells": [
  {
   "cell_type": "code",
   "execution_count": 1,
   "id": "045bc4d3",
   "metadata": {},
   "outputs": [],
   "source": [
    "class Shirt:\n",
    "    \n",
    "    def __init__ (self,shirt_color,shirt_size,shirt_style, shirt_price):\n",
    "        self.color = shirt_color\n",
    "        self.size =  shirt_size\n",
    "        self.style = shirt_style\n",
    "        self.price = shirt_price\n",
    "        \n",
    "    def change_price (self,new_price):\n",
    "        self.price = new_price\n",
    "        \n",
    "    def discount(self,discount):\n",
    "        return self.price * (1- discount)"
   ]
  },
  {
   "cell_type": "code",
   "execution_count": 2,
   "id": "b50a8a10",
   "metadata": {},
   "outputs": [
    {
     "data": {
      "text/plain": [
       "<__main__.Shirt at 0x2733290b430>"
      ]
     },
     "execution_count": 2,
     "metadata": {},
     "output_type": "execute_result"
    }
   ],
   "source": [
    "Shirt('red', 'S', 'short sleeve', 15) #instantiate"
   ]
  },
  {
   "cell_type": "code",
   "execution_count": 3,
   "id": "552f971f",
   "metadata": {},
   "outputs": [],
   "source": [
    "new_shirt = Shirt('red', 'S', 'short sleeve', 15)"
   ]
  },
  {
   "cell_type": "code",
   "execution_count": 4,
   "id": "e46e0b71",
   "metadata": {},
   "outputs": [
    {
     "name": "stdout",
     "output_type": "stream",
     "text": [
      "red\n",
      "S\n",
      "short sleeve\n",
      "15\n"
     ]
    }
   ],
   "source": [
    "print(new_shirt.color)\n",
    "print(new_shirt.size)\n",
    "print(new_shirt.style)\n",
    "print(new_shirt.price)"
   ]
  },
  {
   "cell_type": "code",
   "execution_count": 5,
   "id": "2cc2f2b7",
   "metadata": {},
   "outputs": [
    {
     "name": "stdout",
     "output_type": "stream",
     "text": [
      "10\n"
     ]
    }
   ],
   "source": [
    "new_shirt.change_price(10)\n",
    "print(new_shirt.price)"
   ]
  },
  {
   "cell_type": "code",
   "execution_count": 7,
   "id": "648e205c",
   "metadata": {},
   "outputs": [
    {
     "name": "stdout",
     "output_type": "stream",
     "text": [
      "orange\n",
      "red\n",
      "purple\n"
     ]
    }
   ],
   "source": [
    "tshirt_collection = []  \n",
    "\n",
    "shirt_one = Shirt('orange', 'M', 'short sleeve', 25)\n",
    "shirt_two = Shirt('red', 'S', 'short sleeve', 15)\n",
    "shirt_three = Shirt('purple', 'XL', 'short sleeve', 10)\n",
    "\n",
    "tshirt_collection.append(shirt_one)  \n",
    "tshirt_collection.append(shirt_two)  \n",
    "tshirt_collection.append(shirt_three)  \n",
    "\n",
    "for i in range(len(tshirt_collection)):\n",
    "    print(tshirt_collection[i].color)\n"
   ]
  },
  {
   "cell_type": "markdown",
   "id": "4e2a156b",
   "metadata": {},
   "source": [
    "- The first line tell a python that I am writing a class and I name the class shirt\n",
    "\n",
    "\n",
    "- Next line, initializing all the attribute with the appropriate values\n",
    "\n",
    "\n",
    "- Init --> built in function, to initialize all the attributes\n",
    "\n",
    "- self, store all attributes and make them available throughout your class.\n",
    "\n",
    "- Self is essentially a dictionary that hold all of your attributes."
   ]
  }
 ],
 "metadata": {
  "kernelspec": {
   "display_name": "Python 3 (ipykernel)",
   "language": "python",
   "name": "python3"
  },
  "language_info": {
   "codemirror_mode": {
    "name": "ipython",
    "version": 3
   },
   "file_extension": ".py",
   "mimetype": "text/x-python",
   "name": "python",
   "nbconvert_exporter": "python",
   "pygments_lexer": "ipython3",
   "version": "3.10.11"
  }
 },
 "nbformat": 4,
 "nbformat_minor": 5
}
