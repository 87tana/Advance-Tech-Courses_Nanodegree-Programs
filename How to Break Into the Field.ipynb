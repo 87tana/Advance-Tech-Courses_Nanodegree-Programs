{
 "cells": [
  {
   "cell_type": "code",
   "execution_count": 1,
   "id": "76f054b9",
   "metadata": {},
   "outputs": [],
   "source": [
    "import numpy as np\n",
    "import pandas as pd \n",
    "import matplotlib.pyplot as plt\n",
    "import seaborn as sns\n",
    "import HowToBreakIntoTheField as t\n",
    "%matplotlib inline "
   ]
  },
  {
   "cell_type": "code",
   "execution_count": 2,
   "id": "7226ebc7",
   "metadata": {},
   "outputs": [
    {
     "data": {
      "text/html": [
       "<div>\n",
       "<style scoped>\n",
       "    .dataframe tbody tr th:only-of-type {\n",
       "        vertical-align: middle;\n",
       "    }\n",
       "\n",
       "    .dataframe tbody tr th {\n",
       "        vertical-align: top;\n",
       "    }\n",
       "\n",
       "    .dataframe thead th {\n",
       "        text-align: right;\n",
       "    }\n",
       "</style>\n",
       "<table border=\"1\" class=\"dataframe\">\n",
       "  <thead>\n",
       "    <tr style=\"text-align: right;\">\n",
       "      <th></th>\n",
       "      <th>Respondent</th>\n",
       "      <th>Professional</th>\n",
       "      <th>ProgramHobby</th>\n",
       "      <th>Country</th>\n",
       "      <th>University</th>\n",
       "      <th>EmploymentStatus</th>\n",
       "      <th>FormalEducation</th>\n",
       "      <th>MajorUndergrad</th>\n",
       "      <th>HomeRemote</th>\n",
       "      <th>CompanySize</th>\n",
       "      <th>...</th>\n",
       "      <th>StackOverflowMakeMoney</th>\n",
       "      <th>Gender</th>\n",
       "      <th>HighestEducationParents</th>\n",
       "      <th>Race</th>\n",
       "      <th>SurveyLong</th>\n",
       "      <th>QuestionsInteresting</th>\n",
       "      <th>QuestionsConfusing</th>\n",
       "      <th>InterestedAnswers</th>\n",
       "      <th>Salary</th>\n",
       "      <th>ExpectedSalary</th>\n",
       "    </tr>\n",
       "  </thead>\n",
       "  <tbody>\n",
       "    <tr>\n",
       "      <th>0</th>\n",
       "      <td>1</td>\n",
       "      <td>Student</td>\n",
       "      <td>Yes, both</td>\n",
       "      <td>United States</td>\n",
       "      <td>No</td>\n",
       "      <td>Not employed, and not looking for work</td>\n",
       "      <td>Secondary school</td>\n",
       "      <td>NaN</td>\n",
       "      <td>NaN</td>\n",
       "      <td>NaN</td>\n",
       "      <td>...</td>\n",
       "      <td>Strongly disagree</td>\n",
       "      <td>Male</td>\n",
       "      <td>High school</td>\n",
       "      <td>White or of European descent</td>\n",
       "      <td>Strongly disagree</td>\n",
       "      <td>Strongly agree</td>\n",
       "      <td>Disagree</td>\n",
       "      <td>Strongly agree</td>\n",
       "      <td>NaN</td>\n",
       "      <td>NaN</td>\n",
       "    </tr>\n",
       "    <tr>\n",
       "      <th>1</th>\n",
       "      <td>2</td>\n",
       "      <td>Student</td>\n",
       "      <td>Yes, both</td>\n",
       "      <td>United Kingdom</td>\n",
       "      <td>Yes, full-time</td>\n",
       "      <td>Employed part-time</td>\n",
       "      <td>Some college/university study without earning ...</td>\n",
       "      <td>Computer science or software engineering</td>\n",
       "      <td>More than half, but not all, the time</td>\n",
       "      <td>20 to 99 employees</td>\n",
       "      <td>...</td>\n",
       "      <td>Strongly disagree</td>\n",
       "      <td>Male</td>\n",
       "      <td>A master's degree</td>\n",
       "      <td>White or of European descent</td>\n",
       "      <td>Somewhat agree</td>\n",
       "      <td>Somewhat agree</td>\n",
       "      <td>Disagree</td>\n",
       "      <td>Strongly agree</td>\n",
       "      <td>NaN</td>\n",
       "      <td>37500.0</td>\n",
       "    </tr>\n",
       "    <tr>\n",
       "      <th>2</th>\n",
       "      <td>3</td>\n",
       "      <td>Professional developer</td>\n",
       "      <td>Yes, both</td>\n",
       "      <td>United Kingdom</td>\n",
       "      <td>No</td>\n",
       "      <td>Employed full-time</td>\n",
       "      <td>Bachelor's degree</td>\n",
       "      <td>Computer science or software engineering</td>\n",
       "      <td>Less than half the time, but at least one day ...</td>\n",
       "      <td>10,000 or more employees</td>\n",
       "      <td>...</td>\n",
       "      <td>Disagree</td>\n",
       "      <td>Male</td>\n",
       "      <td>A professional degree</td>\n",
       "      <td>White or of European descent</td>\n",
       "      <td>Somewhat agree</td>\n",
       "      <td>Agree</td>\n",
       "      <td>Disagree</td>\n",
       "      <td>Agree</td>\n",
       "      <td>113750.0</td>\n",
       "      <td>NaN</td>\n",
       "    </tr>\n",
       "    <tr>\n",
       "      <th>3</th>\n",
       "      <td>4</td>\n",
       "      <td>Professional non-developer who sometimes write...</td>\n",
       "      <td>Yes, both</td>\n",
       "      <td>United States</td>\n",
       "      <td>No</td>\n",
       "      <td>Employed full-time</td>\n",
       "      <td>Doctoral degree</td>\n",
       "      <td>A non-computer-focused engineering discipline</td>\n",
       "      <td>Less than half the time, but at least one day ...</td>\n",
       "      <td>10,000 or more employees</td>\n",
       "      <td>...</td>\n",
       "      <td>Disagree</td>\n",
       "      <td>Male</td>\n",
       "      <td>A doctoral degree</td>\n",
       "      <td>White or of European descent</td>\n",
       "      <td>Agree</td>\n",
       "      <td>Agree</td>\n",
       "      <td>Somewhat agree</td>\n",
       "      <td>Strongly agree</td>\n",
       "      <td>NaN</td>\n",
       "      <td>NaN</td>\n",
       "    </tr>\n",
       "    <tr>\n",
       "      <th>4</th>\n",
       "      <td>5</td>\n",
       "      <td>Professional developer</td>\n",
       "      <td>Yes, I program as a hobby</td>\n",
       "      <td>Switzerland</td>\n",
       "      <td>No</td>\n",
       "      <td>Employed full-time</td>\n",
       "      <td>Master's degree</td>\n",
       "      <td>Computer science or software engineering</td>\n",
       "      <td>Never</td>\n",
       "      <td>10 to 19 employees</td>\n",
       "      <td>...</td>\n",
       "      <td>NaN</td>\n",
       "      <td>NaN</td>\n",
       "      <td>NaN</td>\n",
       "      <td>NaN</td>\n",
       "      <td>NaN</td>\n",
       "      <td>NaN</td>\n",
       "      <td>NaN</td>\n",
       "      <td>NaN</td>\n",
       "      <td>NaN</td>\n",
       "      <td>NaN</td>\n",
       "    </tr>\n",
       "  </tbody>\n",
       "</table>\n",
       "<p>5 rows × 154 columns</p>\n",
       "</div>"
      ],
      "text/plain": [
       "   Respondent                                       Professional  \\\n",
       "0           1                                            Student   \n",
       "1           2                                            Student   \n",
       "2           3                             Professional developer   \n",
       "3           4  Professional non-developer who sometimes write...   \n",
       "4           5                             Professional developer   \n",
       "\n",
       "                ProgramHobby         Country      University  \\\n",
       "0                  Yes, both   United States              No   \n",
       "1                  Yes, both  United Kingdom  Yes, full-time   \n",
       "2                  Yes, both  United Kingdom              No   \n",
       "3                  Yes, both   United States              No   \n",
       "4  Yes, I program as a hobby     Switzerland              No   \n",
       "\n",
       "                         EmploymentStatus  \\\n",
       "0  Not employed, and not looking for work   \n",
       "1                      Employed part-time   \n",
       "2                      Employed full-time   \n",
       "3                      Employed full-time   \n",
       "4                      Employed full-time   \n",
       "\n",
       "                                     FormalEducation  \\\n",
       "0                                   Secondary school   \n",
       "1  Some college/university study without earning ...   \n",
       "2                                  Bachelor's degree   \n",
       "3                                    Doctoral degree   \n",
       "4                                    Master's degree   \n",
       "\n",
       "                                  MajorUndergrad  \\\n",
       "0                                            NaN   \n",
       "1       Computer science or software engineering   \n",
       "2       Computer science or software engineering   \n",
       "3  A non-computer-focused engineering discipline   \n",
       "4       Computer science or software engineering   \n",
       "\n",
       "                                          HomeRemote  \\\n",
       "0                                                NaN   \n",
       "1              More than half, but not all, the time   \n",
       "2  Less than half the time, but at least one day ...   \n",
       "3  Less than half the time, but at least one day ...   \n",
       "4                                              Never   \n",
       "\n",
       "                CompanySize  ... StackOverflowMakeMoney Gender  \\\n",
       "0                       NaN  ...      Strongly disagree   Male   \n",
       "1        20 to 99 employees  ...      Strongly disagree   Male   \n",
       "2  10,000 or more employees  ...               Disagree   Male   \n",
       "3  10,000 or more employees  ...               Disagree   Male   \n",
       "4        10 to 19 employees  ...                    NaN    NaN   \n",
       "\n",
       "  HighestEducationParents                          Race         SurveyLong  \\\n",
       "0             High school  White or of European descent  Strongly disagree   \n",
       "1       A master's degree  White or of European descent     Somewhat agree   \n",
       "2   A professional degree  White or of European descent     Somewhat agree   \n",
       "3       A doctoral degree  White or of European descent              Agree   \n",
       "4                     NaN                           NaN                NaN   \n",
       "\n",
       "  QuestionsInteresting QuestionsConfusing InterestedAnswers    Salary  \\\n",
       "0       Strongly agree           Disagree    Strongly agree       NaN   \n",
       "1       Somewhat agree           Disagree    Strongly agree       NaN   \n",
       "2                Agree           Disagree             Agree  113750.0   \n",
       "3                Agree     Somewhat agree    Strongly agree       NaN   \n",
       "4                  NaN                NaN               NaN       NaN   \n",
       "\n",
       "   ExpectedSalary  \n",
       "0             NaN  \n",
       "1         37500.0  \n",
       "2             NaN  \n",
       "3             NaN  \n",
       "4             NaN  \n",
       "\n",
       "[5 rows x 154 columns]"
      ]
     },
     "execution_count": 2,
     "metadata": {},
     "output_type": "execute_result"
    }
   ],
   "source": [
    "df = pd.read_csv('survey-results-public.csv') \n",
    "df.head()"
   ]
  },
  {
   "cell_type": "code",
   "execution_count": 3,
   "id": "7b79f329",
   "metadata": {},
   "outputs": [
    {
     "data": {
      "text/html": [
       "<div>\n",
       "<style scoped>\n",
       "    .dataframe tbody tr th:only-of-type {\n",
       "        vertical-align: middle;\n",
       "    }\n",
       "\n",
       "    .dataframe tbody tr th {\n",
       "        vertical-align: top;\n",
       "    }\n",
       "\n",
       "    .dataframe thead th {\n",
       "        text-align: right;\n",
       "    }\n",
       "</style>\n",
       "<table border=\"1\" class=\"dataframe\">\n",
       "  <thead>\n",
       "    <tr style=\"text-align: right;\">\n",
       "      <th></th>\n",
       "      <th>Column</th>\n",
       "      <th>Question</th>\n",
       "    </tr>\n",
       "  </thead>\n",
       "  <tbody>\n",
       "    <tr>\n",
       "      <th>0</th>\n",
       "      <td>Respondent</td>\n",
       "      <td>Respondent ID number</td>\n",
       "    </tr>\n",
       "    <tr>\n",
       "      <th>1</th>\n",
       "      <td>Professional</td>\n",
       "      <td>Which of the following best describes you?</td>\n",
       "    </tr>\n",
       "    <tr>\n",
       "      <th>2</th>\n",
       "      <td>ProgramHobby</td>\n",
       "      <td>Do you program as a hobby or contribute to ope...</td>\n",
       "    </tr>\n",
       "  </tbody>\n",
       "</table>\n",
       "</div>"
      ],
      "text/plain": [
       "         Column                                           Question\n",
       "0    Respondent                               Respondent ID number\n",
       "1  Professional         Which of the following best describes you?\n",
       "2  ProgramHobby  Do you program as a hobby or contribute to ope..."
      ]
     },
     "execution_count": 3,
     "metadata": {},
     "output_type": "execute_result"
    }
   ],
   "source": [
    "df2 = pd.read_csv('survey-results-schema.csv')\n",
    "df2.head(3)"
   ]
  },
  {
   "cell_type": "markdown",
   "id": "fbd5d16d",
   "metadata": {},
   "source": [
    "## Question 1\n",
    "\n",
    "1. In order to understand how to break into the field, we will look at the CousinEducation field. Use the schema dataset to answer this question. Write a function called get_description that takes the schema dataframe and the column as a string, and returns a string of the description for that column."
   ]
  },
  {
   "cell_type": "code",
   "execution_count": 4,
   "id": "b06917b5",
   "metadata": {},
   "outputs": [
    {
     "data": {
      "text/html": [
       "<div>\n",
       "<style scoped>\n",
       "    .dataframe tbody tr th:only-of-type {\n",
       "        vertical-align: middle;\n",
       "    }\n",
       "\n",
       "    .dataframe tbody tr th {\n",
       "        vertical-align: top;\n",
       "    }\n",
       "\n",
       "    .dataframe thead th {\n",
       "        text-align: right;\n",
       "    }\n",
       "</style>\n",
       "<table border=\"1\" class=\"dataframe\">\n",
       "  <thead>\n",
       "    <tr style=\"text-align: right;\">\n",
       "      <th></th>\n",
       "      <th>Column</th>\n",
       "      <th>Question</th>\n",
       "    </tr>\n",
       "  </thead>\n",
       "  <tbody>\n",
       "    <tr>\n",
       "      <th>0</th>\n",
       "      <td>Respondent</td>\n",
       "      <td>Respondent ID number</td>\n",
       "    </tr>\n",
       "    <tr>\n",
       "      <th>1</th>\n",
       "      <td>Professional</td>\n",
       "      <td>Which of the following best describes you?</td>\n",
       "    </tr>\n",
       "    <tr>\n",
       "      <th>2</th>\n",
       "      <td>ProgramHobby</td>\n",
       "      <td>Do you program as a hobby or contribute to ope...</td>\n",
       "    </tr>\n",
       "    <tr>\n",
       "      <th>3</th>\n",
       "      <td>Country</td>\n",
       "      <td>In which country do you currently live?</td>\n",
       "    </tr>\n",
       "    <tr>\n",
       "      <th>4</th>\n",
       "      <td>University</td>\n",
       "      <td>Are you currently enrolled in a formal, degree...</td>\n",
       "    </tr>\n",
       "  </tbody>\n",
       "</table>\n",
       "</div>"
      ],
      "text/plain": [
       "         Column                                           Question\n",
       "0    Respondent                               Respondent ID number\n",
       "1  Professional         Which of the following best describes you?\n",
       "2  ProgramHobby  Do you program as a hobby or contribute to ope...\n",
       "3       Country            In which country do you currently live?\n",
       "4    University  Are you currently enrolled in a formal, degree..."
      ]
     },
     "execution_count": 4,
     "metadata": {},
     "output_type": "execute_result"
    }
   ],
   "source": [
    "schema = df2\n",
    "schema.head()"
   ]
  },
  {
   "cell_type": "code",
   "execution_count": 6,
   "id": "bced4d2b",
   "metadata": {},
   "outputs": [],
   "source": [
    "def get_description(column_name, schema = schema):\n",
    "    '''\n",
    "    INPUT- schema pandas dataframe with the schema of the developers survey\n",
    "        column_name_string_the name of column you would like to know about\n",
    "    OUTPUT -\n",
    "        desc-string- the description of the column\n",
    "    '''\n",
    "    desc = list(schema[schema['Column'] == column_name]['Question'])[0]\n",
    "    return desc"
   ]
  },
  {
   "cell_type": "code",
   "execution_count": 7,
   "id": "846367ed",
   "metadata": {},
   "outputs": [
    {
     "data": {
      "text/plain": [
       "'Which of the following best describes you?'"
      ]
     },
     "execution_count": 7,
     "metadata": {},
     "output_type": "execute_result"
    }
   ],
   "source": [
    "# test your code\n",
    "# check your function against solution\n",
    "\n",
    "get_description(df.columns[1]) # this should return a string of the first column description"
   ]
  },
  {
   "cell_type": "code",
   "execution_count": 8,
   "id": "9d826ef0",
   "metadata": {},
   "outputs": [
    {
     "name": "stdout",
     "output_type": "stream",
     "text": [
      "Nice job it looks like your function works correctly!\n"
     ]
    }
   ],
   "source": [
    "# check your function against solution\n",
    "descrips = set (get_description(col) for col in df.columns)\n",
    "t.check_description(descrips)"
   ]
  },
  {
   "cell_type": "markdown",
   "id": "39aaf9b6",
   "metadata": {},
   "source": [
    "The question we have been focused on has been around how to break into the field. Use your get_description function below to take a closer look at the CousinEducation column."
   ]
  },
  {
   "cell_type": "code",
   "execution_count": 9,
   "id": "2d5fb03f",
   "metadata": {},
   "outputs": [
    {
     "data": {
      "text/plain": [
       "\"Let's pretend you have a distant cousin. They are 24 years old, have a college degree in a field not related to computer programming, and have been working a non-coding job for the last two years. They want your advice on how to switch to a career as a software developer. Which of the following options would you most strongly recommend to your cousin?\\nLet's pretend you have a distant cousin named Robert. He is 24 years old, has a college degree in a field not related to computer programming, and has been working a non-coding job for the last two years. He wants your advice on how to switch to a career as a software developer. Which of the following options would you most strongly recommend to Robert?\\nLet's pretend you have a distant cousin named Alice. She is 24 years old, has a college degree in a field not related to computer programming, and has been working a non-coding job for the last two years. She wants your advice on how to switch to a career as a software developer. Which of the following options would you most strongly recommend to Alice?\""
      ]
     },
     "execution_count": 9,
     "metadata": {},
     "output_type": "execute_result"
    }
   ],
   "source": [
    "get_description('CousinEducation')"
   ]
  },
  {
   "cell_type": "markdown",
   "id": "a2084a7b",
   "metadata": {},
   "source": [
    "## Question 2\n",
    "\n",
    "   2. Provide a pandas series of the different CousinEducation status values in the dataset. Store this pandas series in cous_ed_vals. If you are correct, you should see a bar chart of the proportion of individuals in each status. If it looks terrible, and you get no information from it, then you followed directions. However, we should clean this up!"
   ]
  },
  {
   "cell_type": "code",
   "execution_count": 10,
   "id": "121d1936",
   "metadata": {},
   "outputs": [
    {
     "data": {
      "text/plain": [
       "Take online courses; Buy books and work through the exercises                                         711\n",
       "Take online courses                                                                                   551\n",
       "None of these                                                                                         523\n",
       "Take online courses; Part-time/evening courses; Buy books and work through the exercises              479\n",
       "Take online courses; Bootcamp; Part-time/evening courses; Buy books and work through the exercises    465\n",
       "                                                                                                     ... \n",
       "Master's degree; Contribute to open source; Part-time/evening courses; Participate in hackathons        1\n",
       "Return to college; Participate in online coding competitions; Conferences/meet-ups; Other               1\n",
       "Return to college; Get a job as a QA tester; Participate in hackathons; Other                           1\n",
       "Return to college; Participate in hackathons; Conferences/meet-ups; Other                               1\n",
       "Master's degree; Take online courses; Other                                                             1\n",
       "Name: CousinEducation, Length: 735, dtype: int64"
      ]
     },
     "execution_count": 10,
     "metadata": {},
     "output_type": "execute_result"
    }
   ],
   "source": [
    "cous_ed_vals = df.CousinEducation.value_counts() #Provide a pandas series of the counts for each CousinEducation status\n",
    "\n",
    "cous_ed_vals # assure this looks right"
   ]
  },
  {
   "cell_type": "code",
   "execution_count": 11,
   "id": "d98d83d1",
   "metadata": {},
   "outputs": [],
   "source": [
    "# The below should be a bar chart of the proportion of individuals in your ed_vals\n",
    "# if it is set up correctly.\n",
    "\n",
    "#(cous_ed_vals/df.shape[0]).plot(kind=\"bar\");\n",
    "#plt.title(\"Formal Education\");"
   ]
  },
  {
   "cell_type": "markdown",
   "id": "94501bb5",
   "metadata": {},
   "source": [
    "We must clean the data. The plot above shows you how it looks like without cleaning. The code below is the same as the previous video and is explained in that video."
   ]
  },
  {
   "cell_type": "code",
   "execution_count": 12,
   "id": "9a5e8240",
   "metadata": {},
   "outputs": [
    {
     "data": {
      "image/png": "[encoded data removed]",
      "text/plain": [
       "<Figure size 640x480 with 1 Axes>"
      ]
     },
     "metadata": {},
     "output_type": "display_data"
    }
   ],
   "source": [
    "possible_vals = [\"Take online courses\", \"Buy books and work through the exercises\", \n",
    "                 \"None of these\", \"Part-time/evening courses\", \"Return to college\",\n",
    "                 \"Contribute to open source\", \"Conferences/meet-ups\", \"Bootcamp\",\n",
    "                 \"Get a job as a QA tester\", \"Participate in online coding competitions\",\n",
    "                 \"Master's degree\", \"Participate in hackathons\", \"Other\"]\n",
    "\n",
    "def clean_and_plot(df, title='Method of Educating Suggested', plot=True):\n",
    "    '''\n",
    "    INPUT \n",
    "        df - a dataframe holding the CousinEducation column\n",
    "        title - string the title of your plot\n",
    "        axis - axis object\n",
    "        plot - bool providing whether or not you want a plot back\n",
    "        \n",
    "    OUTPUT\n",
    "        study_df - a dataframe with the count of how many individuals\n",
    "        Displays a plot of pretty things related to the CousinEducation column.\n",
    "    '''\n",
    "    study = df['CousinEducation'].value_counts().reset_index()\n",
    "    study.rename(columns={'index': 'method', 'CousinEducation': 'count'}, inplace=True)\n",
    "    study_df = t.total_count(study, 'method', 'count', possible_vals)\n",
    "\n",
    "    study_df.set_index('method', inplace=True)\n",
    "    if plot:\n",
    "        (study_df/study_df.sum()).plot(kind='bar', legend=None);\n",
    "        plt.title(title);\n",
    "        plt.show()\n",
    "    props_study_df = study_df/study_df.sum()\n",
    "    return props_study_df\n",
    "    \n",
    "props_df = clean_and_plot(df)"
   ]
  },
  {
   "cell_type": "markdown",
   "id": "c7a44fe0",
   "metadata": {},
   "source": [
    "## Question 4\n",
    "\n",
    "4. I wonder if some of the individuals might have bias towards their own degrees. Complete the function below that will apply to the elements of the FormalEducation column in df."
   ]
  },
  {
   "cell_type": "code",
   "execution_count": 13,
   "id": "facc179e",
   "metadata": {},
   "outputs": [
    {
     "data": {
      "text/plain": [
       "0    0\n",
       "1    0\n",
       "2    0\n",
       "3    0\n",
       "4    1\n",
       "Name: FormalEducation, dtype: int64"
      ]
     },
     "execution_count": 13,
     "metadata": {},
     "output_type": "execute_result"
    }
   ],
   "source": [
    "def higher_ed(formal_ed_str):\n",
    "    '''\n",
    "    INPUT\n",
    "        formal_ed_str - a string of one of the values from the Formal Education column\n",
    "    \n",
    "    OUTPUT\n",
    "        return 1 if the string is  in (\"Master's degree\", \"Professional degree\")\n",
    "        return 0 otherwise\n",
    "    \n",
    "    '''\n",
    "    if formal_ed_str in (\"Master's degree\", \"Professional degree\"):\n",
    "        return 1\n",
    "    else:\n",
    "        return 0\n",
    "\n",
    "df[\"FormalEducation\"].apply(higher_ed)[:5] #Test your function to assure it provides 1 and 0 values for the df"
   ]
  },
  {
   "cell_type": "code",
   "execution_count": 14,
   "id": "bfd0cd99",
   "metadata": {},
   "outputs": [
    {
     "data": {
      "text/plain": [
       "0.23069738480697385"
      ]
     },
     "execution_count": 14,
     "metadata": {},
     "output_type": "execute_result"
    }
   ],
   "source": [
    "# Check your code here\n",
    "df['HigherEd'] = df[\"FormalEducation\"].apply(higher_ed)\n",
    "higher_ed_perc = df['HigherEd'].mean()\n",
    "higher_ed_perc"
   ]
  },
  {
   "cell_type": "markdown",
   "id": "40a15515",
   "metadata": {},
   "source": [
    "## Question 5\n",
    "\n",
    "5. Now we would like to find out if the proportion of individuals who completed one of these three programs feel differently than those that did not. Store a dataframe of only the individual's who had HigherEd equal to 1 in ed_1. Similarly, store a dataframe of only the HigherEd equal to 0 values in ed_0.\n",
    "\n",
    "Notice, you have already created the HigherEd column using the check code portion above, so here you only need to subset the dataframe using this newly created column."
   ]
  },
  {
   "cell_type": "code",
   "execution_count": 15,
   "id": "c053e2ec",
   "metadata": {},
   "outputs": [
    {
     "name": "stdout",
     "output_type": "stream",
     "text": [
      "4     1\n",
      "6     1\n",
      "7     1\n",
      "9     1\n",
      "14    1\n",
      "Name: HigherEd, dtype: int64\n",
      "0    0\n",
      "1    0\n",
      "2    0\n",
      "3    0\n",
      "5    0\n",
      "Name: HigherEd, dtype: int64\n"
     ]
    },
    {
     "name": "stderr",
     "output_type": "stream",
     "text": [
      "C:\\Users\\tmost\\AppData\\Local\\Temp\\ipykernel_15128\\3854006655.py:4: FutureWarning: The behavior of `series[i:j]` with an integer-dtype index is deprecated. In a future version, this will be treated as *label-based* indexing, consistent with e.g. `series[i]` lookups. To retain the old behavior, use `series.iloc[i:j]`. To get the future behavior, use `series.loc[i:j]`.\n",
      "  print(ed_1['HigherEd'][:5]) #Assure it looks like what you would expect\n",
      "C:\\Users\\tmost\\AppData\\Local\\Temp\\ipykernel_15128\\3854006655.py:5: FutureWarning: The behavior of `series[i:j]` with an integer-dtype index is deprecated. In a future version, this will be treated as *label-based* indexing, consistent with e.g. `series[i]` lookups. To retain the old behavior, use `series.iloc[i:j]`. To get the future behavior, use `series.loc[i:j]`.\n",
      "  print(ed_0['HigherEd'][:5]) #Assure it looks like what you would expect\n"
     ]
    }
   ],
   "source": [
    "ed_1 = df[df['HigherEd'] == 1] # Subset df to only those with HigherEd of 1\n",
    "ed_0 = df[df['HigherEd'] == 0] # Subset df to only those with HigherEd of 0\n",
    "\n",
    "print(ed_1['HigherEd'][:5]) #Assure it looks like what you would expect\n",
    "print(ed_0['HigherEd'][:5]) #Assure it looks like what you would expect"
   ]
  },
  {
   "cell_type": "code",
   "execution_count": 16,
   "id": "b1248186",
   "metadata": {},
   "outputs": [
    {
     "data": {
      "text/html": [
       "<style type=\"text/css\">\n",
       "#T_0b04d_row0_col2 {\n",
       "  width: 10em;\n",
       "  background: linear-gradient(90deg, transparent 16.1%, #d65f5f 16.1%, #d65f5f 21.4%, transparent 21.4%);\n",
       "}\n",
       "#T_0b04d_row1_col2 {\n",
       "  width: 10em;\n",
       "  background: linear-gradient(90deg, transparent 21.4%, #5fba7d 21.4%, #5fba7d 23.7%, transparent 23.7%);\n",
       "}\n",
       "#T_0b04d_row2_col2 {\n",
       "  width: 10em;\n",
       "  background: linear-gradient(90deg, transparent 21.4%, #5fba7d 21.4%, #5fba7d 21.6%, transparent 21.6%);\n",
       "}\n",
       "#T_0b04d_row3_col2 {\n",
       "  width: 10em;\n",
       "  background: linear-gradient(90deg, transparent 7.1%, #d65f5f 7.1%, #d65f5f 21.4%, transparent 21.4%);\n",
       "}\n",
       "#T_0b04d_row4_col2 {\n",
       "  width: 10em;\n",
       "  background: linear-gradient(90deg, transparent 21.4%, #5fba7d 21.4%, #5fba7d 28.8%, transparent 28.8%);\n",
       "}\n",
       "#T_0b04d_row5_col2 {\n",
       "  width: 10em;\n",
       "  background: linear-gradient(90deg, transparent 20.8%, #d65f5f 20.8%, #d65f5f 21.4%, transparent 21.4%);\n",
       "}\n",
       "#T_0b04d_row6_col2 {\n",
       "  width: 10em;\n",
       "  background: linear-gradient(90deg, #d65f5f 21.4%, transparent 21.4%);\n",
       "}\n",
       "#T_0b04d_row7_col2 {\n",
       "  width: 10em;\n",
       "  background: linear-gradient(90deg, transparent 21.4%, #5fba7d 21.4%, #5fba7d 100.0%, transparent 100.0%);\n",
       "}\n",
       "#T_0b04d_row8_col2 {\n",
       "  width: 10em;\n",
       "  background: linear-gradient(90deg, transparent 21.4%, #5fba7d 21.4%, #5fba7d 28.7%, transparent 28.7%);\n",
       "}\n",
       "#T_0b04d_row9_col2 {\n",
       "  width: 10em;\n",
       "  background: linear-gradient(90deg, transparent 6.8%, #d65f5f 6.8%, #d65f5f 21.4%, transparent 21.4%);\n",
       "}\n",
       "#T_0b04d_row10_col2 {\n",
       "  width: 10em;\n",
       "  background: linear-gradient(90deg, transparent 0.3%, #d65f5f 0.3%, #d65f5f 21.4%, transparent 21.4%);\n",
       "}\n",
       "#T_0b04d_row11_col2 {\n",
       "  width: 10em;\n",
       "  background: linear-gradient(90deg, transparent 3.2%, #d65f5f 3.2%, #d65f5f 21.4%, transparent 21.4%);\n",
       "}\n",
       "#T_0b04d_row12_col2 {\n",
       "  width: 10em;\n",
       "  background: linear-gradient(90deg, transparent 21.4%, #5fba7d 21.4%, #5fba7d 21.7%, transparent 21.7%);\n",
       "}\n",
       "</style>\n",
       "<table id=\"T_0b04d\">\n",
       "  <thead>\n",
       "    <tr>\n",
       "      <th class=\"blank level0\" >&nbsp;</th>\n",
       "      <th id=\"T_0b04d_level0_col0\" class=\"col_heading level0 col0\" >ed_1_perc</th>\n",
       "      <th id=\"T_0b04d_level0_col1\" class=\"col_heading level0 col1\" >ed_0_perc</th>\n",
       "      <th id=\"T_0b04d_level0_col2\" class=\"col_heading level0 col2\" >Diff_HigherEd_Vals</th>\n",
       "    </tr>\n",
       "    <tr>\n",
       "      <th class=\"index_name level0\" >method</th>\n",
       "      <th class=\"blank col0\" >&nbsp;</th>\n",
       "      <th class=\"blank col1\" >&nbsp;</th>\n",
       "      <th class=\"blank col2\" >&nbsp;</th>\n",
       "    </tr>\n",
       "  </thead>\n",
       "  <tbody>\n",
       "    <tr>\n",
       "      <th id=\"T_0b04d_level0_row0\" class=\"row_heading level0 row0\" >Take online courses</th>\n",
       "      <td id=\"T_0b04d_row0_col0\" class=\"data row0 col0\" >0.207892</td>\n",
       "      <td id=\"T_0b04d_row0_col1\" class=\"data row0 col1\" >0.209900</td>\n",
       "      <td id=\"T_0b04d_row0_col2\" class=\"data row0 col2\" >-0.002009</td>\n",
       "    </tr>\n",
       "    <tr>\n",
       "      <th id=\"T_0b04d_level0_row1\" class=\"row_heading level0 row1\" >Buy books and work through the exercises</th>\n",
       "      <td id=\"T_0b04d_row1_col0\" class=\"data row1 col0\" >0.162073</td>\n",
       "      <td id=\"T_0b04d_row1_col1\" class=\"data row1 col1\" >0.161205</td>\n",
       "      <td id=\"T_0b04d_row1_col2\" class=\"data row1 col2\" >0.000868</td>\n",
       "    </tr>\n",
       "    <tr>\n",
       "      <th id=\"T_0b04d_level0_row2\" class=\"row_heading level0 row2\" >Part-time/evening courses</th>\n",
       "      <td id=\"T_0b04d_row2_col0\" class=\"data row2 col0\" >0.103298</td>\n",
       "      <td id=\"T_0b04d_row2_col1\" class=\"data row2 col1\" >0.103248</td>\n",
       "      <td id=\"T_0b04d_row2_col2\" class=\"data row2 col2\" >0.000050</td>\n",
       "    </tr>\n",
       "    <tr>\n",
       "      <th id=\"T_0b04d_level0_row3\" class=\"row_heading level0 row3\" >Contribute to open source</th>\n",
       "      <td id=\"T_0b04d_row3_col0\" class=\"data row3 col0\" >0.097821</td>\n",
       "      <td id=\"T_0b04d_row3_col1\" class=\"data row3 col1\" >0.103230</td>\n",
       "      <td id=\"T_0b04d_row3_col2\" class=\"data row3 col2\" >-0.005409</td>\n",
       "    </tr>\n",
       "    <tr>\n",
       "      <th id=\"T_0b04d_level0_row4\" class=\"row_heading level0 row4\" >Bootcamp</th>\n",
       "      <td id=\"T_0b04d_row4_col0\" class=\"data row4 col0\" >0.074617</td>\n",
       "      <td id=\"T_0b04d_row4_col1\" class=\"data row4 col1\" >0.071824</td>\n",
       "      <td id=\"T_0b04d_row4_col2\" class=\"data row4 col2\" >0.002793</td>\n",
       "    </tr>\n",
       "    <tr>\n",
       "      <th id=\"T_0b04d_level0_row5\" class=\"row_heading level0 row5\" >Return to college</th>\n",
       "      <td id=\"T_0b04d_row5_col0\" class=\"data row5 col0\" >0.068728</td>\n",
       "      <td id=\"T_0b04d_row5_col1\" class=\"data row5 col1\" >0.068975</td>\n",
       "      <td id=\"T_0b04d_row5_col2\" class=\"data row5 col2\" >-0.000247</td>\n",
       "    </tr>\n",
       "    <tr>\n",
       "      <th id=\"T_0b04d_level0_row6\" class=\"row_heading level0 row6\" >Conferences/meet-ups</th>\n",
       "      <td id=\"T_0b04d_row6_col0\" class=\"data row6 col0\" >0.065842</td>\n",
       "      <td id=\"T_0b04d_row6_col1\" class=\"data row6 col1\" >0.073920</td>\n",
       "      <td id=\"T_0b04d_row6_col2\" class=\"data row6 col2\" >-0.008078</td>\n",
       "    </tr>\n",
       "    <tr>\n",
       "      <th id=\"T_0b04d_level0_row7\" class=\"row_heading level0 row7\" >Master's degree</th>\n",
       "      <td id=\"T_0b04d_row7_col0\" class=\"data row7 col0\" >0.058952</td>\n",
       "      <td id=\"T_0b04d_row7_col1\" class=\"data row7 col1\" >0.029346</td>\n",
       "      <td id=\"T_0b04d_row7_col2\" class=\"data row7 col2\" >0.029606</td>\n",
       "    </tr>\n",
       "    <tr>\n",
       "      <th id=\"T_0b04d_level0_row8\" class=\"row_heading level0 row8\" >Get a job as a QA tester</th>\n",
       "      <td id=\"T_0b04d_row8_col0\" class=\"data row8 col0\" >0.048469</td>\n",
       "      <td id=\"T_0b04d_row8_col1\" class=\"data row8 col1\" >0.045739</td>\n",
       "      <td id=\"T_0b04d_row8_col2\" class=\"data row8 col2\" >0.002730</td>\n",
       "    </tr>\n",
       "    <tr>\n",
       "      <th id=\"T_0b04d_level0_row9\" class=\"row_heading level0 row9\" >Participate in online coding competitions</th>\n",
       "      <td id=\"T_0b04d_row9_col0\" class=\"data row9 col0\" >0.045347</td>\n",
       "      <td id=\"T_0b04d_row9_col1\" class=\"data row9 col1\" >0.050881</td>\n",
       "      <td id=\"T_0b04d_row9_col2\" class=\"data row9 col2\" >-0.005533</td>\n",
       "    </tr>\n",
       "    <tr>\n",
       "      <th id=\"T_0b04d_level0_row10\" class=\"row_heading level0 row10\" >Participate in hackathons</th>\n",
       "      <td id=\"T_0b04d_row10_col0\" class=\"data row10 col0\" >0.031625</td>\n",
       "      <td id=\"T_0b04d_row10_col1\" class=\"data row10 col1\" >0.039594</td>\n",
       "      <td id=\"T_0b04d_row10_col2\" class=\"data row10 col2\" >-0.007968</td>\n",
       "    </tr>\n",
       "    <tr>\n",
       "      <th id=\"T_0b04d_level0_row11\" class=\"row_heading level0 row11\" >Other</th>\n",
       "      <td id=\"T_0b04d_row11_col0\" class=\"data row11 col0\" >0.026973</td>\n",
       "      <td id=\"T_0b04d_row11_col1\" class=\"data row11 col1\" >0.033861</td>\n",
       "      <td id=\"T_0b04d_row11_col2\" class=\"data row11 col2\" >-0.006888</td>\n",
       "    </tr>\n",
       "    <tr>\n",
       "      <th id=\"T_0b04d_level0_row12\" class=\"row_heading level0 row12\" >None of these</th>\n",
       "      <td id=\"T_0b04d_row12_col0\" class=\"data row12 col0\" >0.008363</td>\n",
       "      <td id=\"T_0b04d_row12_col1\" class=\"data row12 col1\" >0.008277</td>\n",
       "      <td id=\"T_0b04d_row12_col2\" class=\"data row12 col2\" >0.000086</td>\n",
       "    </tr>\n",
       "  </tbody>\n",
       "</table>\n"
      ],
      "text/plain": [
       "<pandas.io.formats.style.Styler at 0x1726d6110c0>"
      ]
     },
     "execution_count": 16,
     "metadata": {},
     "output_type": "execute_result"
    }
   ],
   "source": [
    "#Check your subset is correct - you should get a plot that was created using pandas styling\n",
    "#which you can learn more about here: https://pandas.pydata.org/pandas-docs/stable/style.html\n",
    "\n",
    "ed_1_perc = clean_and_plot(ed_1, 'Higher Formal Education', plot=False)\n",
    "ed_0_perc = clean_and_plot(ed_0, 'Max of Bachelors Higher Ed', plot=False)\n",
    "\n",
    "comp_df = pd.merge(ed_1_perc, ed_0_perc, left_index=True, right_index=True)\n",
    "comp_df.columns = ['ed_1_perc', 'ed_0_perc']\n",
    "comp_df['Diff_HigherEd_Vals'] = comp_df['ed_1_perc'] - comp_df['ed_0_perc']\n",
    "comp_df.style.bar(subset=['Diff_HigherEd_Vals'], align='mid', color=['#d65f5f', '#5fba7d'])"
   ]
  },
  {
   "cell_type": "markdown",
   "id": "483bce76",
   "metadata": {},
   "source": [
    "## Question 6\n",
    "\n",
    "6. What can you conclude from the above plot? Change the dictionary to mark True for the keys of any statements you can conclude, and False for any of the statements you cannot conclude."
   ]
  },
  {
   "cell_type": "code",
   "execution_count": 17,
   "id": "b1a70c83",
   "metadata": {},
   "outputs": [
    {
     "name": "stdout",
     "output_type": "stream",
     "text": [
      "That's not quite right.  Notice that online courses are the top way to break into the field for both audiences.\n",
      "Not quite.  Notice that those in the 1 category pushed earning a higher degree by approximately 2 times the other group.\n"
     ]
    }
   ],
   "source": [
    "sol = {'Everyone should get a higher level of formal education': False, \n",
    "       'Regardless of formal education, online courses are the top suggested form of education': False,\n",
    "       'There is less than a 1% difference between suggestions of the two groups for all forms of education': False,\n",
    "       'Those with higher formal education suggest it more than those who do not have it': False}\n",
    "\n",
    "t.conclusions(sol)"
   ]
  },
  {
   "cell_type": "markdown",
   "id": "d688f64b",
   "metadata": {},
   "source": [
    "## What is the data about the bootcamp grads in terms of job placement and salary?"
   ]
  },
  {
   "cell_type": "markdown",
   "id": "dcb85d09",
   "metadata": {},
   "source": [
    "- in terms of this question we are only intrested in bootcamp grads "
   ]
  },
  {
   "cell_type": "code",
   "execution_count": 18,
   "id": "68aa56fc",
   "metadata": {},
   "outputs": [
    {
     "data": {
      "text/html": [
       "<div>\n",
       "<style scoped>\n",
       "    .dataframe tbody tr th:only-of-type {\n",
       "        vertical-align: middle;\n",
       "    }\n",
       "\n",
       "    .dataframe tbody tr th {\n",
       "        vertical-align: top;\n",
       "    }\n",
       "\n",
       "    .dataframe thead th {\n",
       "        text-align: right;\n",
       "    }\n",
       "</style>\n",
       "<table border=\"1\" class=\"dataframe\">\n",
       "  <thead>\n",
       "    <tr style=\"text-align: right;\">\n",
       "      <th></th>\n",
       "      <th>Respondent</th>\n",
       "      <th>Professional</th>\n",
       "      <th>ProgramHobby</th>\n",
       "      <th>Country</th>\n",
       "      <th>University</th>\n",
       "      <th>EmploymentStatus</th>\n",
       "      <th>FormalEducation</th>\n",
       "      <th>MajorUndergrad</th>\n",
       "      <th>HomeRemote</th>\n",
       "      <th>CompanySize</th>\n",
       "      <th>...</th>\n",
       "      <th>StackOverflowMakeMoney</th>\n",
       "      <th>Gender</th>\n",
       "      <th>HighestEducationParents</th>\n",
       "      <th>Race</th>\n",
       "      <th>SurveyLong</th>\n",
       "      <th>QuestionsInteresting</th>\n",
       "      <th>QuestionsConfusing</th>\n",
       "      <th>InterestedAnswers</th>\n",
       "      <th>Salary</th>\n",
       "      <th>ExpectedSalary</th>\n",
       "    </tr>\n",
       "  </thead>\n",
       "  <tbody>\n",
       "    <tr>\n",
       "      <th>0</th>\n",
       "      <td>1</td>\n",
       "      <td>Student</td>\n",
       "      <td>Yes, both</td>\n",
       "      <td>United States</td>\n",
       "      <td>No</td>\n",
       "      <td>Not employed, and not looking for work</td>\n",
       "      <td>Secondary school</td>\n",
       "      <td>NaN</td>\n",
       "      <td>NaN</td>\n",
       "      <td>NaN</td>\n",
       "      <td>...</td>\n",
       "      <td>Strongly disagree</td>\n",
       "      <td>Male</td>\n",
       "      <td>High school</td>\n",
       "      <td>White or of European descent</td>\n",
       "      <td>Strongly disagree</td>\n",
       "      <td>Strongly agree</td>\n",
       "      <td>Disagree</td>\n",
       "      <td>Strongly agree</td>\n",
       "      <td>NaN</td>\n",
       "      <td>NaN</td>\n",
       "    </tr>\n",
       "    <tr>\n",
       "      <th>1</th>\n",
       "      <td>2</td>\n",
       "      <td>Student</td>\n",
       "      <td>Yes, both</td>\n",
       "      <td>United Kingdom</td>\n",
       "      <td>Yes, full-time</td>\n",
       "      <td>Employed part-time</td>\n",
       "      <td>Some college/university study without earning ...</td>\n",
       "      <td>Computer science or software engineering</td>\n",
       "      <td>More than half, but not all, the time</td>\n",
       "      <td>20 to 99 employees</td>\n",
       "      <td>...</td>\n",
       "      <td>Strongly disagree</td>\n",
       "      <td>Male</td>\n",
       "      <td>A master's degree</td>\n",
       "      <td>White or of European descent</td>\n",
       "      <td>Somewhat agree</td>\n",
       "      <td>Somewhat agree</td>\n",
       "      <td>Disagree</td>\n",
       "      <td>Strongly agree</td>\n",
       "      <td>NaN</td>\n",
       "      <td>37500.0</td>\n",
       "    </tr>\n",
       "    <tr>\n",
       "      <th>2</th>\n",
       "      <td>3</td>\n",
       "      <td>Professional developer</td>\n",
       "      <td>Yes, both</td>\n",
       "      <td>United Kingdom</td>\n",
       "      <td>No</td>\n",
       "      <td>Employed full-time</td>\n",
       "      <td>Bachelor's degree</td>\n",
       "      <td>Computer science or software engineering</td>\n",
       "      <td>Less than half the time, but at least one day ...</td>\n",
       "      <td>10,000 or more employees</td>\n",
       "      <td>...</td>\n",
       "      <td>Disagree</td>\n",
       "      <td>Male</td>\n",
       "      <td>A professional degree</td>\n",
       "      <td>White or of European descent</td>\n",
       "      <td>Somewhat agree</td>\n",
       "      <td>Agree</td>\n",
       "      <td>Disagree</td>\n",
       "      <td>Agree</td>\n",
       "      <td>113750.0</td>\n",
       "      <td>NaN</td>\n",
       "    </tr>\n",
       "    <tr>\n",
       "      <th>3</th>\n",
       "      <td>4</td>\n",
       "      <td>Professional non-developer who sometimes write...</td>\n",
       "      <td>Yes, both</td>\n",
       "      <td>United States</td>\n",
       "      <td>No</td>\n",
       "      <td>Employed full-time</td>\n",
       "      <td>Doctoral degree</td>\n",
       "      <td>A non-computer-focused engineering discipline</td>\n",
       "      <td>Less than half the time, but at least one day ...</td>\n",
       "      <td>10,000 or more employees</td>\n",
       "      <td>...</td>\n",
       "      <td>Disagree</td>\n",
       "      <td>Male</td>\n",
       "      <td>A doctoral degree</td>\n",
       "      <td>White or of European descent</td>\n",
       "      <td>Agree</td>\n",
       "      <td>Agree</td>\n",
       "      <td>Somewhat agree</td>\n",
       "      <td>Strongly agree</td>\n",
       "      <td>NaN</td>\n",
       "      <td>NaN</td>\n",
       "    </tr>\n",
       "    <tr>\n",
       "      <th>4</th>\n",
       "      <td>5</td>\n",
       "      <td>Professional developer</td>\n",
       "      <td>Yes, I program as a hobby</td>\n",
       "      <td>Switzerland</td>\n",
       "      <td>No</td>\n",
       "      <td>Employed full-time</td>\n",
       "      <td>Master's degree</td>\n",
       "      <td>Computer science or software engineering</td>\n",
       "      <td>Never</td>\n",
       "      <td>10 to 19 employees</td>\n",
       "      <td>...</td>\n",
       "      <td>NaN</td>\n",
       "      <td>NaN</td>\n",
       "      <td>NaN</td>\n",
       "      <td>NaN</td>\n",
       "      <td>NaN</td>\n",
       "      <td>NaN</td>\n",
       "      <td>NaN</td>\n",
       "      <td>NaN</td>\n",
       "      <td>NaN</td>\n",
       "      <td>NaN</td>\n",
       "    </tr>\n",
       "  </tbody>\n",
       "</table>\n",
       "<p>5 rows × 154 columns</p>\n",
       "</div>"
      ],
      "text/plain": [
       "   Respondent                                       Professional  \\\n",
       "0           1                                            Student   \n",
       "1           2                                            Student   \n",
       "2           3                             Professional developer   \n",
       "3           4  Professional non-developer who sometimes write...   \n",
       "4           5                             Professional developer   \n",
       "\n",
       "                ProgramHobby         Country      University  \\\n",
       "0                  Yes, both   United States              No   \n",
       "1                  Yes, both  United Kingdom  Yes, full-time   \n",
       "2                  Yes, both  United Kingdom              No   \n",
       "3                  Yes, both   United States              No   \n",
       "4  Yes, I program as a hobby     Switzerland              No   \n",
       "\n",
       "                         EmploymentStatus  \\\n",
       "0  Not employed, and not looking for work   \n",
       "1                      Employed part-time   \n",
       "2                      Employed full-time   \n",
       "3                      Employed full-time   \n",
       "4                      Employed full-time   \n",
       "\n",
       "                                     FormalEducation  \\\n",
       "0                                   Secondary school   \n",
       "1  Some college/university study without earning ...   \n",
       "2                                  Bachelor's degree   \n",
       "3                                    Doctoral degree   \n",
       "4                                    Master's degree   \n",
       "\n",
       "                                  MajorUndergrad  \\\n",
       "0                                            NaN   \n",
       "1       Computer science or software engineering   \n",
       "2       Computer science or software engineering   \n",
       "3  A non-computer-focused engineering discipline   \n",
       "4       Computer science or software engineering   \n",
       "\n",
       "                                          HomeRemote  \\\n",
       "0                                                NaN   \n",
       "1              More than half, but not all, the time   \n",
       "2  Less than half the time, but at least one day ...   \n",
       "3  Less than half the time, but at least one day ...   \n",
       "4                                              Never   \n",
       "\n",
       "                CompanySize  ... StackOverflowMakeMoney Gender  \\\n",
       "0                       NaN  ...      Strongly disagree   Male   \n",
       "1        20 to 99 employees  ...      Strongly disagree   Male   \n",
       "2  10,000 or more employees  ...               Disagree   Male   \n",
       "3  10,000 or more employees  ...               Disagree   Male   \n",
       "4        10 to 19 employees  ...                    NaN    NaN   \n",
       "\n",
       "  HighestEducationParents                          Race         SurveyLong  \\\n",
       "0             High school  White or of European descent  Strongly disagree   \n",
       "1       A master's degree  White or of European descent     Somewhat agree   \n",
       "2   A professional degree  White or of European descent     Somewhat agree   \n",
       "3       A doctoral degree  White or of European descent              Agree   \n",
       "4                     NaN                           NaN                NaN   \n",
       "\n",
       "  QuestionsInteresting QuestionsConfusing InterestedAnswers    Salary  \\\n",
       "0       Strongly agree           Disagree    Strongly agree       NaN   \n",
       "1       Somewhat agree           Disagree    Strongly agree       NaN   \n",
       "2                Agree           Disagree             Agree  113750.0   \n",
       "3                Agree     Somewhat agree    Strongly agree       NaN   \n",
       "4                  NaN                NaN               NaN       NaN   \n",
       "\n",
       "   ExpectedSalary  \n",
       "0             NaN  \n",
       "1         37500.0  \n",
       "2             NaN  \n",
       "3             NaN  \n",
       "4             NaN  \n",
       "\n",
       "[5 rows x 154 columns]"
      ]
     },
     "execution_count": 18,
     "metadata": {},
     "output_type": "execute_result"
    }
   ],
   "source": [
    "df = pd.read_csv('survey-results-public.csv') \n",
    "df.head()"
   ]
  },
  {
   "cell_type": "code",
   "execution_count": 24,
   "id": "21eccbce",
   "metadata": {},
   "outputs": [
    {
     "data": {
      "text/plain": [
       "(2602, 154)"
      ]
     },
     "execution_count": 24,
     "metadata": {},
     "output_type": "execute_result"
    }
   ],
   "source": [
    "bootcamp_df = df[df['TimeAfterBootcamp'].isnull()==False]\n",
    "not_bootcamp_df = df[df['TimeAfterBootcamp'].isnull()==True]\n",
    "bootcamp_df.shape"
   ]
  },
  {
   "cell_type": "code",
   "execution_count": 41,
   "id": "8475bdbe",
   "metadata": {},
   "outputs": [
    {
     "data": {
      "text/plain": [
       "Male                                                       0.863071\n",
       "Female                                                     0.112494\n",
       "Other                                                      0.006455\n",
       "Gender non-conforming                                      0.005533\n",
       "Male; Other                                                0.002766\n",
       "Female; Gender non-conforming                              0.001383\n",
       "Male; Gender non-conforming                                0.001383\n",
       "Transgender; Gender non-conforming                         0.000922\n",
       "Transgender                                                0.000922\n",
       "Male; Female                                               0.000922\n",
       "Female; Transgender; Gender non-conforming                 0.000922\n",
       "Male; Female; Transgender; Gender non-conforming; Other    0.000922\n",
       "Male; Transgender                                          0.000922\n",
       "Male; Gender non-conforming; Other                         0.000461\n",
       "Female; Gender non-conforming; Other                       0.000461\n",
       "Male; Female; Transgender; Gender non-conforming           0.000461\n",
       "Name: Gender, dtype: float64"
      ]
     },
     "execution_count": 41,
     "metadata": {},
     "output_type": "execute_result"
    }
   ],
   "source": [
    "bootcamp_df['Gender'].value_counts() /(bootcamp_df.shape[0] - sum(bootcamp_df['Gender'].isnull()))"
   ]
  },
  {
   "cell_type": "code",
   "execution_count": 39,
   "id": "9066c6a0",
   "metadata": {},
   "outputs": [
    {
     "data": {
      "text/plain": [
       "Male                                                       0.614534\n",
       "Female                                                     0.048721\n",
       "Other                                                      0.004363\n",
       "Male; Other                                                0.003412\n",
       "Gender non-conforming                                      0.003061\n",
       "Male; Gender non-conforming                                0.001282\n",
       "Female; Transgender                                        0.001158\n",
       "Transgender                                                0.001096\n",
       "Female; Gender non-conforming                              0.000538\n",
       "Male; Female                                               0.000269\n",
       "Transgender; Gender non-conforming                         0.000269\n",
       "Male; Female; Transgender; Gender non-conforming; Other    0.000269\n",
       "Male; Transgender                                          0.000186\n",
       "Female; Transgender; Gender non-conforming                 0.000124\n",
       "Male; Female; Transgender; Gender non-conforming           0.000124\n",
       "Male; Female; Transgender                                  0.000083\n",
       "Gender non-conforming; Other                               0.000083\n",
       "Male; Transgender; Gender non-conforming                   0.000083\n",
       "Male; Female; Other                                        0.000041\n",
       "Male; Gender non-conforming; Other                         0.000041\n",
       "Male; Female; Gender non-conforming                        0.000021\n",
       "Female; Other                                              0.000021\n",
       "Transgender; Other                                         0.000021\n",
       "Male; Female; Gender non-conforming; Other                 0.000021\n",
       "Female; Transgender; Other                                 0.000021\n",
       "Female; Transgender; Gender non-conforming; Other          0.000021\n",
       "Male; Transgender; Other                                   0.000021\n",
       "Male; Female; Transgender; Other                           0.000021\n",
       "Name: Gender, dtype: float64"
      ]
     },
     "execution_count": 39,
     "metadata": {},
     "output_type": "execute_result"
    }
   ],
   "source": [
    "not_bootcamp_df['Gender'].value_counts() /(not_bootcamp_df.shape[0] - sum(bootcamp_df['Gender'].isnull()))"
   ]
  },
  {
   "cell_type": "code",
   "execution_count": 47,
   "id": "fb60890f",
   "metadata": {},
   "outputs": [
    {
     "data": {
      "text/plain": [
       "Bachelor's degree                                                    0.475019\n",
       "Master's degree                                                      0.225211\n",
       "Some college/university study without earning a bachelor's degree    0.162567\n",
       "Secondary school                                                     0.069562\n",
       "Doctoral degree                                                      0.022291\n",
       "Professional degree                                                  0.016141\n",
       "I prefer not to answer                                               0.011914\n",
       "Primary/elementary school                                            0.009224\n",
       "I never completed any formal education                               0.008071\n",
       "Name: FormalEducation, dtype: float64"
      ]
     },
     "execution_count": 47,
     "metadata": {},
     "output_type": "execute_result"
    }
   ],
   "source": [
    "bootcamp_df['FormalEducation'].value_counts()/bootcamp_df.shape[0] - sum(bootcamp_df['FormalEducation'].isnull())"
   ]
  },
  {
   "cell_type": "code",
   "execution_count": 48,
   "id": "b52b31c0",
   "metadata": {},
   "outputs": [
    {
     "data": {
      "text/plain": [
       "Bachelor's degree                                                    0.417565\n",
       "Master's degree                                                      0.216335\n",
       "Some college/university study without earning a bachelor's degree    0.157942\n",
       "Secondary school                                                     0.117381\n",
       "Doctoral degree                                                      0.025620\n",
       "I prefer not to answer                                               0.022095\n",
       "Primary/elementary school                                            0.020967\n",
       "Professional degree                                                  0.013794\n",
       "I never completed any formal education                               0.008301\n",
       "Name: FormalEducation, dtype: float64"
      ]
     },
     "execution_count": 48,
     "metadata": {},
     "output_type": "execute_result"
    }
   ],
   "source": [
    "not_bootcamp_df['FormalEducation'].value_counts()/not_bootcamp_df.shape[0] - sum(bootcamp_df['FormalEducation'].isnull())"
   ]
  },
  {
   "cell_type": "code",
   "execution_count": 51,
   "id": "a45c0987",
   "metadata": {},
   "outputs": [
    {
     "data": {
      "text/plain": [
       "I already had a job as a developer when I started the program    0.458493\n",
       "Immediately upon graduating                                      0.112990\n",
       "I got a job as a developer before completing the program         0.096849\n",
       "One to three months                                              0.087625\n",
       "I haven't gotten a job as a developer yet                        0.081091\n",
       "Less than a month                                                0.059954\n",
       "Four to six months                                               0.040354\n",
       "Longer than a year                                               0.032667\n",
       "Six months to a year                                             0.029977\n",
       "Name: TimeAfterBootcamp, dtype: float64"
      ]
     },
     "execution_count": 51,
     "metadata": {},
     "output_type": "execute_result"
    }
   ],
   "source": [
    "bootcamp_df['TimeAfterBootcamp'].value_counts()/bootcamp_df.shape[0]"
   ]
  },
  {
   "cell_type": "code",
   "execution_count": 53,
   "id": "09c7ad79",
   "metadata": {},
   "outputs": [
    {
     "data": {
      "text/plain": [
       "<Axes: >"
      ]
     },
     "execution_count": 53,
     "metadata": {},
     "output_type": "execute_result"
    },
    {
     "data": {
      "image/png": "[encoded data removed]",
      "text/plain": [
       "<Figure size 640x480 with 1 Axes>"
      ]
     },
     "metadata": {},
     "output_type": "display_data"
    }
   ],
   "source": [
    "bootcamp_df['Salary'].hist(bins=20)"
   ]
  },
  {
   "cell_type": "code",
   "execution_count": null,
   "id": "ef0da39e",
   "metadata": {},
   "outputs": [],
   "source": []
  },
  {
   "cell_type": "code",
   "execution_count": null,
   "id": "5a254abf",
   "metadata": {},
   "outputs": [],
   "source": []
  },
  {
   "cell_type": "code",
   "execution_count": null,
   "id": "a0e81c80",
   "metadata": {},
   "outputs": [],
   "source": []
  },
  {
   "cell_type": "code",
   "execution_count": null,
   "id": "5cb1e7c2",
   "metadata": {},
   "outputs": [],
   "source": []
  },
  {
   "cell_type": "code",
   "execution_count": null,
   "id": "c7ac1e2a",
   "metadata": {},
   "outputs": [],
   "source": []
  }
 ],
 "metadata": {
  "kernelspec": {
   "display_name": "Python 3 (ipykernel)",
   "language": "python",
   "name": "python3"
  },
  "language_info": {
   "codemirror_mode": {
    "name": "ipython",
    "version": 3
   },
   "file_extension": ".py",
   "mimetype": "text/x-python",
   "name": "python",
   "nbconvert_exporter": "python",
   "pygments_lexer": "ipython3",
   "version": "3.10.11"
  }
 },
 "nbformat": 4,
 "nbformat_minor": 5
}
